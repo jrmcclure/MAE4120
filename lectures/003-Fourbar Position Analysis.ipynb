{
 "cells": [
  {
   "cell_type": "markdown",
   "metadata": {},
   "source": [
    "# Fourbar Position Analysis\n",
    "---\n",
    "## Problem:\n",
    "\n",
    "<img src=\"https://jrmcclure.com/MAE4120/images/003_4bar_01.svg\" width=\"600\"/>\n",
    "\n",
    "> ### __Given:__ $L_{1}, L_{2}, L_{3}, L_{4}, \\theta_{1}$\n",
    "\n",
    "> ### __Find:__ $\\theta_{2}, \\theta_{3}$"
   ]
  },
  {
   "cell_type": "markdown",
   "metadata": {},
   "source": [
    "### Vector Analysis\n",
    "\n",
    "> _Once again we will use the vector loop equation to generate our system of equations to solve.  As an example, we will use two different vector loops to obtain identical systems of equations._"
   ]
  },
  {
   "cell_type": "markdown",
   "metadata": {},
   "source": [
    "### Example A:\n",
    "\n",
    "<img src=\"https://jrmcclure.com/MAE4120/images/003_4bar_01A.svg\" width=\"600\"/>\n",
    "\n"
   ]
  },
  {
   "cell_type": "markdown",
   "metadata": {},
   "source": [
    "__Vector Loop Equation__:\n",
    "\n",
    "\\begin{equation*}\\large\n",
    "\\vec{L_{1}} = \\vec{L_{4}} + \\vec{L_{3}} + \\vec{L_{2}}\n",
    "\\end{equation*}\n",
    "\n",
    "__Cartesian Equations:__\n",
    "\n",
    "\\begin{equation*}\\large\n",
    "x:\\:L_{1,x} = L_{4,x} + L_{3,x} + L_{2,x}\\\\\n",
    "\\large\n",
    "y:\\:L_{1,y} = L_{4,y} + L_{3,y} + L_{2,y}\n",
    "\\end{equation*}\n",
    "\n",
    "__X-Y Equations:__\n",
    "\n",
    "\\begin{equation*}\\large\n",
    "(1)\\:L_{1}\\cos\\theta_{1} = L_{4}\\cos\\theta_{4} + L_{3}\\cos\\theta_{3} + L_{2}\\cos\\theta_{2}\\\\ \n",
    "\\end{equation*}\n",
    "\\begin{equation*}\\large\n",
    "(2)\\:L_{1}\\sin\\theta_{1} = L_{4}\\sin\\theta_{4} + L_{3}\\sin\\theta_{3} + L_{2}\\sin\\theta_{2}\\\\ \n",
    "\\end{equation*}\n",
    "\n",
    "> __Note__: $\\theta_{4} = 0^{\\circ}$\n",
    "\n",
    "> __Note__: $\\theta_{1} = Constant$\n",
    "\n",
    "\\begin{equation*}\\large\n",
    "L_{1}\\cos\\theta_{1}  - L_{2}\\cos\\theta_{2} - L_{3}\\cos\\theta_{3} - L_{4} = 0\\\\ \n",
    "\\end{equation*}\n",
    "\\begin{equation*}\\large\n",
    "L_{1}\\sin\\theta_{1} - L_{2}\\sin\\theta_{2} - L_{3}\\sin\\theta_{3} = 0\\\\ \n",
    "\\end{equation*}\n",
    "\n",
    "> __2 Equations => 2 Unknowns => 0 DOF => Solve__\n"
   ]
  },
  {
   "cell_type": "markdown",
   "metadata": {},
   "source": [
    "### Example B:\n",
    "\n",
    "<img src=\"https://jrmcclure.com/MAE4120/images/003_4bar_01B.svg\" width=\"600\"/>"
   ]
  },
  {
   "cell_type": "markdown",
   "metadata": {},
   "source": [
    "__Vector Loop Equation__:\n",
    "\n",
    "\\begin{equation*}\\large\n",
    "\\vec{L_{1}} + \\vec{L_{2}} = \\vec{L_{4}} + \\vec{L_{3}}\n",
    "\\end{equation*}\n",
    "\n",
    "__Cartesian Equations:__\n",
    "\n",
    "\\begin{equation*}\\large\n",
    "x:\\:L_{1,x} + L_{2,x} = L_{4,x} + L_{3,x}\\\\\n",
    "\\large\n",
    "y:\\:L_{1,y} + L_{2,y} = L_{4,y} + L_{3,y}\n",
    "\\end{equation*}\n",
    "\n",
    "__X-Y Equations:__\n",
    "\n",
    "\\begin{equation*}\\large\n",
    "(1)\\:L_{1}\\cos\\theta_{1} + L_{2}\\cos\\theta_{2} = L_{4}\\cos\\theta_{4} + L_{3}\\cos\\theta_{3}\\\\ \n",
    "\\end{equation*}\n",
    "\\begin{equation*}\\large\n",
    "(2)\\:L_{1}\\sin\\theta_{1} + L_{2}\\sin\\theta_{2} = L_{4}\\sin\\theta_{4} + L_{3}\\sin\\theta_{3}\\\\ \n",
    "\\end{equation*}\n",
    "\n",
    "> __Note__: $\\theta_{4} = 0^{\\circ}$\n",
    "\n",
    "> __Note__: $\\theta_{1} = Constant$\n",
    "\n",
    "\\begin{equation*}\\large\n",
    "L_{1}\\cos\\theta_{1}  + L_{2}\\cos\\theta_{2} - L_{3}\\cos\\theta_{3} - L_{4} = 0\\\\ \n",
    "\\end{equation*}\n",
    "\\begin{equation*}\\large\n",
    "L_{1}\\sin\\theta_{1} + L_{2}\\sin\\theta_{2} - L_{3}\\sin\\theta_{3} = 0\\\\ \n",
    "\\end{equation*}\n",
    "\n",
    "> __2 Equations => 2 Unknowns => 0 DOF => Solve__"
   ]
  },
  {
   "cell_type": "markdown",
   "metadata": {},
   "source": [
    "### Note:\n",
    "\n",
    ">  $\\theta_{2a} = \\theta_{2b}\\pm180^{\\circ} \\Rightarrow \\sin\\theta_{2a} = -\\sin\\theta_{2b}$\n",
    "\n",
    ">  $\\theta_{2a} = \\theta_{2b}\\pm180^{\\circ} \\Rightarrow \\cos\\theta_{2a} = -\\cos\\theta_{2b}$"
   ]
  },
  {
   "cell_type": "markdown",
   "metadata": {},
   "source": [
    "__Example A:__\n",
    "$\\:\\:L_{1}\\cos\\theta_{1}  - L_{2}\\cos\\theta_{2} - L_{3}\\cos\\theta_{3} - L_{4} = 0$\n",
    "\n",
    "__Example B:__ $\\:\\:L_{1}\\cos\\theta_{1}  + L_{2}\\cos\\theta_{2} - L_{3}\\cos\\theta_{3} - L_{4} = 0$\n",
    "\n"
   ]
  },
  {
   "cell_type": "markdown",
   "metadata": {},
   "source": [
    "### Let's Solve System B:\n"
   ]
  },
  {
   "cell_type": "markdown",
   "metadata": {},
   "source": [
    "\\begin{equation*}\\large\n",
    "L_{2}\\cos\\theta_{2} = -L_{1}\\cos\\theta_{1} + L_{3}\\cos\\theta_{3} + L_{4}\\\\ \n",
    "\\end{equation*}\n",
    "\\begin{equation*}\\large\n",
    "L_{2}\\sin\\theta_{2} = -L_{1}\\sin\\theta_{1} + L_{3}\\sin\\theta_{3}\\\\ \n",
    "\\end{equation*}"
   ]
  },
  {
   "cell_type": "markdown",
   "metadata": {},
   "source": [
    "> _Let_:\n",
    "\n",
    "\\begin{equation*}\\large\n",
    "L_{1} = a,\\: L_{2} = b,\\: L_{3} = c,\\: L_{4} = d\\\\ \n",
    "\\end{equation*}"
   ]
  },
  {
   "cell_type": "markdown",
   "metadata": {},
   "source": [
    "> _Square both equations_:\n",
    "\n",
    "\\begin{equation*}\\large\n",
    "(b\\cos\\theta_{2})^{2} = (-a\\cos\\theta_{1} + c\\cos\\theta_{3} + d)^{2}\\\\ \n",
    "\\end{equation*}\n",
    "\\begin{equation*}\\large\n",
    "(b\\sin\\theta_{2})^{2} = (-a\\sin\\theta_{1} + c\\sin\\theta_{3})^{2}\\\\ \n",
    "\\end{equation*}\n"
   ]
  },
  {
   "cell_type": "markdown",
   "metadata": {},
   "source": [
    "> _Add both equations together_:\n",
    "\n",
    "\\begin{equation*}\\large\n",
    "b^{2}(\\sin^{2}\\theta_{2} + \\cos^{2}\\theta_{2}) = (-a\\sin\\theta_{1} + c\\sin\\theta_{3})^{2} + (-a\\cos\\theta_{1} + c\\cos\\theta_{3} + d)^{2}\\\\ \n",
    "\\end{equation*}\n"
   ]
  },
  {
   "cell_type": "markdown",
   "metadata": {},
   "source": [
    "> _Remember_: $(\\sin^{2}\\theta_{2} + \\cos^{2}\\theta_{2}) = 1$\n",
    "\n",
    "\\begin{equation*}\\large\n",
    "b^{2} = (-a\\sin\\theta_{1} + c\\sin\\theta_{3})^{2} + (-a\\cos\\theta_{1} + c\\cos\\theta_{3} + d)^{2}\\\\ \n",
    "\\end{equation*}"
   ]
  },
  {
   "cell_type": "markdown",
   "metadata": {},
   "source": [
    "> _Expand and rearrage terms_:\n",
    "\n",
    "\\begin{equation*}\\large\n",
    "b^{2} = a^{2} + c^{2} + d^{2} - 2ad\\cos\\theta_{1} +\n",
    "    2cd\\cos\\theta_{3} - 2ac(\\sin\\theta_{1}\\sin\\theta_{3} + \\cos\\theta_{1}\\cos\\theta_{3}) \n",
    "\\end{equation*}"
   ]
  },
  {
   "cell_type": "markdown",
   "metadata": {},
   "source": [
    "> _Simplfy using constants_:\n",
    "\n",
    "\\begin{align*}\\large\n",
    "K_{1} & = \\frac da &\n",
    "\\large\n",
    "K_{2} & = \\frac dc &\n",
    "\\large\n",
    "K_{3} & = \\frac {a^{2} - b^{2} + c^{2} + d^{2}}{2ac}\n",
    "\\end{align*}"
   ]
  },
  {
   "cell_type": "markdown",
   "metadata": {},
   "source": [
    "> _And_:\n",
    "\n",
    "\\begin{equation*}\\large\n",
    "K_{1}\\cos\\theta_{3} - K_{2}\\cos\\theta_{1} + K_{1} = \\sin\\theta_{1}\\sin\\theta_{3} + \\cos\\theta_{1}\\cos\\theta_{3}\n",
    "\\end{equation*}"
   ]
  },
  {
   "cell_type": "markdown",
   "metadata": {},
   "source": [
    "> _Remember_: $\\cos(\\theta_{1} - \\theta_{3}) = \\sin\\theta_{1}\\sin\\theta_{3} + \\cos\\theta_{1}\\cos\\theta_{3}$\n",
    "\n",
    "\\begin{equation*}\\large\n",
    "K_{1}\\cos\\theta_{3} - K_{2}\\cos\\theta_{1} + K_{1} = \\cos(\\theta_{1} - \\theta_{3})\n",
    "\\end{equation*}"
   ]
  },
  {
   "cell_type": "markdown",
   "metadata": {},
   "source": [
    "> _And then we use half angle identities for $\\theta_{3}$..._\n",
    "\n",
    "> _And we substitute yet more constants..._\n",
    "\n",
    "\\begin{align*}\n",
    "A & = \\cos\\theta_{1} - K_{1} - K_{2}\\cos\\theta_{1} + K_{3}\\\\\n",
    "B & = -2\\sin\\theta_{1}\\\\\n",
    "C & = K_{1} - (K_{2} + 1)\\cos\\theta_{1} + K_{3}\\\\\n",
    "\\end{align*}"
   ]
  },
  {
   "cell_type": "markdown",
   "metadata": {},
   "source": [
    "> _And finally..._\n",
    "\n",
    "\\begin{equation*}\\large\n",
    "\\tan \\Biggl( \\frac {\\theta_{3}}{2} \\Biggr) = \\frac {-B \\pm \\sqrt{B^{2}-4AC}}{2A}\n",
    "\\end{equation*}"
   ]
  },
  {
   "cell_type": "markdown",
   "metadata": {},
   "source": [
    "> _And using inverse tangent function we have..._\n",
    "\n",
    "\\begin{equation*}\\large\n",
    "\\theta_{3_{1,2}} = 2tan^{-1}\\Biggl(\\frac {-B \\pm \\sqrt{B^{2}-4AC}}{2A}\\Biggr)\n",
    "\\end{equation*}"
   ]
  },
  {
   "cell_type": "markdown",
   "metadata": {},
   "source": [
    "> _And having finally finished you should feel like this guy..._\n",
    "<img src=\"https://media.giphy.com/media/llmaic2Tv6s92/giphy.gif\">"
   ]
  },
  {
   "cell_type": "markdown",
   "metadata": {
    "collapsed": true
   },
   "source": [
    "> _And we can solve for $\\theta_{2}$ using the following constants ..._\n",
    "\n",
    "\\begin{align*}\\large\n",
    "K_{4} & = \\frac db &\n",
    "\\large\n",
    "K_{5} & = \\frac {c^{2} - d^{2} - a^{2} - b^{2}}{2ab}\n",
    "\\end{align*}\n",
    "\n",
    "\\begin{align*}\n",
    "D & = \\cos\\theta_{1} - K_{1} + K_{4}\\cos\\theta_{1} + K_{5}\\\\\n",
    "E & = -2\\sin\\theta_{1}\\\\\n",
    "F & = K_{1} + (K_{4} - 1)\\cos\\theta_{1} + K_{5}\\\\\n",
    "\\end{align*}\n",
    "\n",
    "> _And using inverse tangent function we have..._\n",
    "\n",
    "\\begin{equation*}\\large\n",
    "\\theta_{2_{1,2}} = 2tan^{-1}\\Biggl(\\frac {-E \\pm \\sqrt{E^{2}-4DF}}{2D}\\Biggr)\n",
    "\\end{equation*}"
   ]
  },
  {
   "cell_type": "code",
   "execution_count": null,
   "metadata": {
    "collapsed": true
   },
   "outputs": [],
   "source": []
  }
 ],
 "metadata": {
  "kernelspec": {
   "display_name": "Python 3",
   "language": "python",
   "name": "python3"
  },
  "language_info": {
   "codemirror_mode": {
    "name": "ipython",
    "version": 3
   },
   "file_extension": ".py",
   "mimetype": "text/x-python",
   "name": "python",
   "nbconvert_exporter": "python",
   "pygments_lexer": "ipython3",
   "version": "3.6.1"
  }
 },
 "nbformat": 4,
 "nbformat_minor": 2
}
