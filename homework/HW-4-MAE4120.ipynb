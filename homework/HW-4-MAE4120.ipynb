{
 "cells": [
  {
   "cell_type": "code",
   "execution_count": 1,
   "metadata": {
    "collapsed": true
   },
   "outputs": [],
   "source": [
    "%matplotlib inline"
   ]
  },
  {
   "cell_type": "code",
   "execution_count": 2,
   "metadata": {
    "collapsed": true
   },
   "outputs": [],
   "source": [
    "import matplotlib.pyplot as plt\n",
    "import math\n",
    "import numpy as np\n",
    "from scipy.optimize import fsolve"
   ]
  },
  {
   "cell_type": "markdown",
   "metadata": {},
   "source": [
    "### 1. Write a  function that accepts $L_{1}$, $L_{2}$, $L_{3}$, $L_{4}$, $\\theta_{1}$, $\\theta_{2}$, $\\theta_{3}$, $\\omega_{1}$ and calcuates value of $\\omega_{3}$ for the fourbar linkage shown below using the analytical solution provided in the text/notes:\n",
    "\n",
    "<img src=\"https://jrmcclure.com/MAE4120/images/003_4bar_01.svg\" width=\"600\"/>"
   ]
  },
  {
   "cell_type": "markdown",
   "metadata": {},
   "source": [
    "### 2. Write a  function that accepts $L_{1}$, $L_{2}$, $L_{3}$, $L_{4}$, $\\omega_{1}$, $\\omega_{3}$ and calcuates the velocity $(v_{x},v_{y})$ at points $(x_{2},y_{2})$ and $(x_{3},y_{3})$:\n",
    "\n",
    "<img src=\"https://jrmcclure.com/MAE4120/images/005_4bar_01.svg\" width='600px'>"
   ]
  },
  {
   "cell_type": "markdown",
   "metadata": {},
   "source": [
    "### 3. Write a  function that accepts $L_{1}$, $L_{2}$, $L_{3}$, $L_{4}$, $\\theta_{1}$, $\\omega_{1}$ and calcuates the velocity $(v_{x},v_{y})$ at points $(x_{2},y_{2})$ and $(x_{3},y_{3})$ using a computational method as described during lecture.  Do not use the analytical solution from Problem 1:\n",
    "\n",
    "<img src=\"https://jrmcclure.com/MAE4120/images/005_4bar_01.svg\" width='600px'>"
   ]
  },
  {
   "cell_type": "code",
   "execution_count": null,
   "metadata": {
    "collapsed": true
   },
   "outputs": [],
   "source": []
  }
 ],
 "metadata": {
  "kernelspec": {
   "display_name": "Python 3",
   "language": "python",
   "name": "python3"
  },
  "language_info": {
   "codemirror_mode": {
    "name": "ipython",
    "version": 3
   },
   "file_extension": ".py",
   "mimetype": "text/x-python",
   "name": "python",
   "nbconvert_exporter": "python",
   "pygments_lexer": "ipython3",
   "version": "3.5.1"
  }
 },
 "nbformat": 4,
 "nbformat_minor": 2
}
