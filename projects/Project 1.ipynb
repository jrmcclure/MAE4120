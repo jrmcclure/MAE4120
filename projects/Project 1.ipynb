{
 "cells": [
  {
   "cell_type": "markdown",
   "metadata": {},
   "source": [
    "# MAE-4120 Project 1 #\n",
    "\n",
    "---"
   ]
  },
  {
   "cell_type": "markdown",
   "metadata": {},
   "source": [
    "<img src=\"https://jrmcclure.com/MAE4120/images/005_4bar_01.svg\" width=\"600\"/>"
   ]
  },
  {
   "cell_type": "markdown",
   "metadata": {
    "collapsed": true
   },
   "source": [
    "### Given 4 link lengths ($L_{1}$,$L_{2}$,$L_{3}$,$L_{4}$) for the fourbar linkage shown above,  do the following:\n",
    "\n",
    "> __1. )__ Calculate the range of possible $\\theta_{1}$ values ( Include all angles from $0^{\\circ}-360^{\\circ}$)\n",
    " \n",
    " \n",
    "> __2. )__ Calulcate the following over a continuous range of $\\theta_{1}$ with a maximum step size of $1^{\\circ}:$\n",
    " \n",
    " >  - $\\theta_{3}$\n",
    " >  - $(x_{1},y_{1})$\n",
    " >  - $(x_{2},y_{2})$\n",
    " >  - $(x_{3},y_{3})$\n",
    " >  - $(x_{4},y_{4})$\n",
    " \n",
    " \n",
    "> __3. )__ Export the data above as a CSV file with the name `linkage_data.csv`. Column data should include the following: $L_{1}, L_{2}, L_{3}, L_{4}, \\theta_{1}, \\theta_{3}, x_{1}, y_{1}, x_{2}, y_{2}, x_{3}, y_{3}, x_{4}, y_{4}$\n",
    "\n",
    " \n",
    "> __4. )__ Generate plots of the linkage at the endpoints of the range of $\\theta_{1}$.  If the linkage is grashof, show plots for $\\theta_{1} = 0^{\\circ}$ and $\\theta_{1} = 180^{\\circ}$.\n",
    ">> - Plots can be generated using Python's matplotlib module, SolidWorks, or Excel\n",
    "\n",
    "\n",
    "> __5. )__ Generate a single plot showing both $x_{2}$ and $y_{2}$ vs. $\\theta_{1}$\n",
    "\n",
    "\n",
    "> __6. )__ Generate a single plot showing both $x_{3}$ and $y_{3}$ vs. $\\theta_{1}$"
   ]
  },
  {
   "cell_type": "markdown",
   "metadata": {},
   "source": [
    "- Project must be submitted via JupyterHub at <a href='https://jupyter.jrmcclure.com/'>jupyter.jrmcclure.com</a>\n",
    "- Please create a folder named `projects` and load your final submission as a juypter notebook named `project_1.ipynb`\n",
    "- Submission deadline is 8pm, July 12, 2017"
   ]
  },
  {
   "cell_type": "code",
   "execution_count": null,
   "metadata": {
    "collapsed": true
   },
   "outputs": [],
   "source": []
  }
 ],
 "metadata": {
  "kernelspec": {
   "display_name": "Python 3",
   "language": "python",
   "name": "python3"
  },
  "language_info": {
   "codemirror_mode": {
    "name": "ipython",
    "version": 3
   },
   "file_extension": ".py",
   "mimetype": "text/x-python",
   "name": "python",
   "nbconvert_exporter": "python",
   "pygments_lexer": "ipython3",
   "version": "3.6.1"
  }
 },
 "nbformat": 4,
 "nbformat_minor": 2
}
