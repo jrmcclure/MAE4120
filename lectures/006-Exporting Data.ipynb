{
 "cells": [
  {
   "cell_type": "markdown",
   "metadata": {},
   "source": [
    "### Exporting data with CSV module ###\n",
    "\n",
    "Import CSV module"
   ]
  },
  {
   "cell_type": "code",
   "execution_count": 7,
   "metadata": {
    "collapsed": true
   },
   "outputs": [],
   "source": [
    "import csv"
   ]
  },
  {
   "cell_type": "markdown",
   "metadata": {},
   "source": [
    "Create dummy data_1.\n",
    "\n",
    "Notice data_1 is an array of arrays.  The first item is the column headings, with the remaining items being individual data points."
   ]
  },
  {
   "cell_type": "code",
   "execution_count": 8,
   "metadata": {
    "collapsed": true
   },
   "outputs": [],
   "source": [
    "data_1 = [\n",
    "    ['L1','L2','L3','L4','theta1','theta3'],\n",
    "    [200,400,600,800,0,30],\n",
    "    [200,400,600,800,10,35],\n",
    "    [200,400,600,800,20,40],\n",
    "    [200,400,600,800,30,45],\n",
    "]"
   ]
  },
  {
   "cell_type": "markdown",
   "metadata": {},
   "source": [
    "Write `data_1` to file with name `data_1.csv`"
   ]
  },
  {
   "cell_type": "code",
   "execution_count": 9,
   "metadata": {
    "collapsed": true
   },
   "outputs": [],
   "source": [
    "with open('data_1.csv', 'w') as file:\n",
    "    writer = csv.writer(file, delimiter=\",\")\n",
    "    writer.writerows(data_1)"
   ]
  },
  {
   "cell_type": "markdown",
   "metadata": {},
   "source": [
    "### Exporting data with NumPy ###\n",
    "\n",
    "Import numpy"
   ]
  },
  {
   "cell_type": "code",
   "execution_count": 10,
   "metadata": {
    "collapsed": true
   },
   "outputs": [],
   "source": [
    "import numpy as np"
   ]
  },
  {
   "cell_type": "code",
   "execution_count": 14,
   "metadata": {
    "collapsed": true
   },
   "outputs": [],
   "source": [
    "L1 = np.array((200,200,200,200))\n",
    "L2 = np.array((400,400,400,400))\n",
    "L3 = np.array((600,600,600,600))\n",
    "L4 = np.array((800,800,800,800))\n",
    "theta1 = np.array((0,10,20,30))\n",
    "theta3 = np.array((30,35,40,45))"
   ]
  },
  {
   "cell_type": "code",
   "execution_count": 19,
   "metadata": {
    "collapsed": true
   },
   "outputs": [],
   "source": [
    "np.savetxt('data_2.csv', (L1, L2, L3, L4, theta1, theta3), delimiter=',', fmt='%.2f')"
   ]
  }
 ],
 "metadata": {
  "kernelspec": {
   "display_name": "Python 3",
   "language": "python",
   "name": "python3"
  },
  "language_info": {
   "codemirror_mode": {
    "name": "ipython",
    "version": 3
   },
   "file_extension": ".py",
   "mimetype": "text/x-python",
   "name": "python",
   "nbconvert_exporter": "python",
   "pygments_lexer": "ipython3",
   "version": "3.6.1"
  }
 },
 "nbformat": 4,
 "nbformat_minor": 2
}
