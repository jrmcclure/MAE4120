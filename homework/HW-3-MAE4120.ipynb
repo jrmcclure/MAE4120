{
 "cells": [
  {
   "cell_type": "code",
   "execution_count": 11,
   "metadata": {
    "collapsed": true
   },
   "outputs": [],
   "source": [
    "%matplotlib inline"
   ]
  },
  {
   "cell_type": "code",
   "execution_count": 12,
   "metadata": {
    "collapsed": true
   },
   "outputs": [],
   "source": [
    "import matplotlib.pyplot as plt\n",
    "import math\n",
    "import numpy as np\n",
    "from scipy.optimize import fsolve"
   ]
  },
  {
   "cell_type": "markdown",
   "metadata": {},
   "source": [
    "### 1. Write a  function that accepts $L_{1}$, $L_{2}$, $L_{3}$, $\\theta_{1}$ and calcuates value of $\\theta_{2}$ and $d$ for a fourbar slider-crank linkage:\n",
    "\n",
    "<img src='https://jrmcclure.com/MAE4120/images/005_4bar_slider.svg' width=\"500px\">"
   ]
  },
  {
   "cell_type": "code",
   "execution_count": 13,
   "metadata": {
    "collapsed": true
   },
   "outputs": [],
   "source": [
    "def fourbar_crank_theta2(L1,L2,L3,theta1):\n",
    "    '''\n",
    "    Function returns theta2_min if exists, else returns None\n",
    "    '''\n",
    "    #Insert your code below this line\n",
    "    \n",
    "    pass\n",
    "    \n",
    "    #Insert your code above this line \n",
    "    \n",
    "    return theta2, d"
   ]
  },
  {
   "cell_type": "markdown",
   "metadata": {},
   "source": [
    "### 2. Write a  function that accepts $L_{1}$, $L_{2}$, $L_{3}$, $L_{4}$, $\\theta_{1}$, $\\theta_{3}$ and calcuates the (x,y) coordinates for all joint locations for a fourbar double-crank linkage:\n",
    "\n",
    "<img src=\"https://jrmcclure.com/MAE4120/images/005_4bar_01.svg\" width='600px'>"
   ]
  },
  {
   "cell_type": "code",
   "execution_count": 14,
   "metadata": {
    "collapsed": true
   },
   "outputs": [],
   "source": [
    "def fourbar_coordinates(L1,L2,L3,L4,theta1,theta3):\n",
    "    '''\n",
    "    Function returns theta2_min if exists, else returns None\n",
    "    '''\n",
    "    #Insert your code below this line\n",
    "    \n",
    "    pass\n",
    "    \n",
    "    #Insert your code above this line \n",
    "    \n",
    "    return (x1,y1,x2,y2,x3,y3,x4,y4)\n"
   ]
  },
  {
   "cell_type": "markdown",
   "metadata": {},
   "source": [
    "### 3. Write a  function that accepts $L_{1}$, $L_{2}$, $L_{3}$, $\\theta_{1}$, $\\theta_{2}$, $d$ and calcuates the (x,y) coordinates for all joint locations for a fourbar crank-slider linkage:\n",
    "\n",
    "<img src=\"https://jrmcclure.com/MAE4120/images/005_4bar_slider_xy.svg\" width='600px'>"
   ]
  },
  {
   "cell_type": "code",
   "execution_count": 15,
   "metadata": {
    "collapsed": true
   },
   "outputs": [],
   "source": [
    "def fourbar_crank_coordinates(L1,L2,L3,theta1,theta2,d):\n",
    "    '''\n",
    "    Function returns theta2_min if exists, else returns None\n",
    "    '''\n",
    "    #Insert your code below this line\n",
    "    \n",
    "    pass\n",
    "    \n",
    "    #Insert your code above this line \n",
    "    \n",
    "    return ((x1,y1),(x2,y2),(x3,y3),(x4,y4))"
   ]
  },
  {
   "cell_type": "markdown",
   "metadata": {},
   "source": [
    "### 4. Write a  function that accepts 4 (x,y) coordiantes and plots them using the matplotlib library:\n",
    "\n",
    " - Plot lines connecting the points\n",
    " - Plot each line in a different color\n",
    " - Plot dots at each of the points\n",
    " - Ensure both axes have the same scale\n",
    " \n",
    "#### Example: ####\n",
    " \n",
    " <img src=\"https://jrmcclure.com/MAE4120/images/005_plot.png\" width=\"600px\" align=\"left\">"
   ]
  },
  {
   "cell_type": "code",
   "execution_count": 16,
   "metadata": {
    "collapsed": true
   },
   "outputs": [],
   "source": [
    "def fourbar_plot(x1,y1,x2,y2,x3,y3,x4,y4):\n",
    "    '''\n",
    "    Function returns theta2_min if exists, else returns None\n",
    "    '''\n",
    "    #Insert your code below this line\n",
    "    \n",
    "    pass\n",
    "    \n",
    "    #Insert your code above this line \n",
    "    "
   ]
  },
  {
   "cell_type": "markdown",
   "metadata": {
    "collapsed": true
   },
   "source": [
    "### TESTS ###"
   ]
  },
  {
   "cell_type": "markdown",
   "metadata": {},
   "source": [
    "__Problem 1:__\n",
    " -  __$L_{1} = 200$, $L_{2} = 600$, $L_{3} = 300$, $\\theta_{1} = 30^{\\circ} \\longrightarrow \\theta_{2} = 199.5^{\\circ}, d = 738.9 $__\n",
    "\n",
    " -  __$L_{1} = 200$, $L_{2} = 600$, $L_{3} = 300$, $\\theta_{1} = 90^{\\circ} \\longrightarrow \\theta_{2} = 189.6^{\\circ}, d = 591.6 $__\n",
    "\n",
    " -  __$L_{1} = 200$, $L_{2} = 600$, $L_{3} = 300$, $\\theta_{1} = 180^{\\circ} \\longrightarrow \\theta_{2} = 210.0^{\\circ}, d = 319.6 $__"
   ]
  },
  {
   "cell_type": "code",
   "execution_count": 17,
   "metadata": {},
   "outputs": [
    {
     "ename": "NameError",
     "evalue": "name 'theta2' is not defined",
     "output_type": "error",
     "traceback": [
      "\u001b[0;31m---------------------------------------------------------------------------\u001b[0m",
      "\u001b[0;31mNameError\u001b[0m                                 Traceback (most recent call last)",
      "\u001b[0;32m<ipython-input-17-a3b40b96f674>\u001b[0m in \u001b[0;36m<module>\u001b[0;34m()\u001b[0m\n\u001b[0;32m----> 1\u001b[0;31m \u001b[0mprint\u001b[0m\u001b[0;34m(\u001b[0m\u001b[0mfourbar_crank_theta2\u001b[0m\u001b[0;34m(\u001b[0m\u001b[0mL1\u001b[0m\u001b[0;34m=\u001b[0m\u001b[0;36m200\u001b[0m\u001b[0;34m,\u001b[0m\u001b[0mL2\u001b[0m\u001b[0;34m=\u001b[0m\u001b[0;36m600\u001b[0m\u001b[0;34m,\u001b[0m\u001b[0mL3\u001b[0m\u001b[0;34m=\u001b[0m\u001b[0;36m300\u001b[0m\u001b[0;34m,\u001b[0m\u001b[0mtheta1\u001b[0m\u001b[0;34m=\u001b[0m\u001b[0;36m30\u001b[0m\u001b[0;34m)\u001b[0m\u001b[0;34m)\u001b[0m\u001b[0;34m\u001b[0m\u001b[0m\n\u001b[0m\u001b[1;32m      2\u001b[0m \u001b[0mprint\u001b[0m\u001b[0;34m(\u001b[0m\u001b[0mfourbar_crank_theta2\u001b[0m\u001b[0;34m(\u001b[0m\u001b[0mL1\u001b[0m\u001b[0;34m=\u001b[0m\u001b[0;36m200\u001b[0m\u001b[0;34m,\u001b[0m\u001b[0mL2\u001b[0m\u001b[0;34m=\u001b[0m\u001b[0;36m600\u001b[0m\u001b[0;34m,\u001b[0m\u001b[0mL3\u001b[0m\u001b[0;34m=\u001b[0m\u001b[0;36m300\u001b[0m\u001b[0;34m,\u001b[0m\u001b[0mtheta1\u001b[0m\u001b[0;34m=\u001b[0m\u001b[0;36m90\u001b[0m\u001b[0;34m)\u001b[0m\u001b[0;34m)\u001b[0m\u001b[0;34m\u001b[0m\u001b[0m\n\u001b[1;32m      3\u001b[0m \u001b[0mprint\u001b[0m\u001b[0;34m(\u001b[0m\u001b[0mfourbar_crank_theta2\u001b[0m\u001b[0;34m(\u001b[0m\u001b[0mL1\u001b[0m\u001b[0;34m=\u001b[0m\u001b[0;36m200\u001b[0m\u001b[0;34m,\u001b[0m\u001b[0mL2\u001b[0m\u001b[0;34m=\u001b[0m\u001b[0;36m600\u001b[0m\u001b[0;34m,\u001b[0m\u001b[0mL3\u001b[0m\u001b[0;34m=\u001b[0m\u001b[0;36m300\u001b[0m\u001b[0;34m,\u001b[0m\u001b[0mtheta1\u001b[0m\u001b[0;34m=\u001b[0m\u001b[0;36m180\u001b[0m\u001b[0;34m)\u001b[0m\u001b[0;34m)\u001b[0m\u001b[0;34m\u001b[0m\u001b[0m\n",
      "\u001b[0;32m<ipython-input-13-36333966419e>\u001b[0m in \u001b[0;36mfourbar_crank_theta2\u001b[0;34m(L1, L2, L3, theta1)\u001b[0m\n\u001b[1;32m      9\u001b[0m     \u001b[0;31m#Insert your code above this line\u001b[0m\u001b[0;34m\u001b[0m\u001b[0;34m\u001b[0m\u001b[0m\n\u001b[1;32m     10\u001b[0m \u001b[0;34m\u001b[0m\u001b[0m\n\u001b[0;32m---> 11\u001b[0;31m     \u001b[0;32mreturn\u001b[0m \u001b[0mtheta2\u001b[0m\u001b[0;34m,\u001b[0m \u001b[0md\u001b[0m\u001b[0;34m\u001b[0m\u001b[0m\n\u001b[0m",
      "\u001b[0;31mNameError\u001b[0m: name 'theta2' is not defined"
     ]
    }
   ],
   "source": [
    "print(fourbar_crank_theta2(L1=200,L2=600,L3=300,theta1=30))\n",
    "print(fourbar_crank_theta2(L1=200,L2=600,L3=300,theta1=90))\n",
    "print(fourbar_crank_theta2(L1=200,L2=600,L3=300,theta1=180))"
   ]
  },
  {
   "cell_type": "markdown",
   "metadata": {},
   "source": [
    "__Problem 2:__\n",
    " -  __$L_{1} = 100$, $L_{2} = 200$, $L_{3} = 250$, $L_{4} = 400$, $\\theta_{1} = 0^{\\circ}, \\theta_{3} = 138.6^{\\circ} \\to (x_{3},y_{3}) = (212.5,165.4)$__\n",
    "\n",
    " -  __$L_{1} = 100$, $L_{2} = 200$, $L_{3} = 250$, $L_{4} = 400$, $\\theta_{1} = 45^{\\circ}, \\theta_{3} = 131.7^{\\circ} \\to (x_{3},y_{3}) = (233.7,186.7)$__\n",
    "\n",
    " -  __$L_{1} = 100$, $L_{2} = 200$, $L_{3} = 250$, $L_{4} = 400$, $\\theta_{1} = 90^{\\circ}, \\theta_{3} = 145.0^{\\circ} \\to (x_{3},y_{3}) = (195.2,143.4)$__"
   ]
  },
  {
   "cell_type": "code",
   "execution_count": null,
   "metadata": {
    "collapsed": true
   },
   "outputs": [],
   "source": [
    "print(fourbar_coordinates(L1=100,L2=200,L3=250,L4=400,theta1=0,theta3=138.6))\n",
    "print(fourbar_coordinates(L1=100,L2=200,L3=250,L4=400,theta1=45,theta3=131.7))\n",
    "print(fourbar_coordinates(L1=100,L2=200,L3=250,L4=400,theta1=90,theta3=145.0))"
   ]
  },
  {
   "cell_type": "markdown",
   "metadata": {},
   "source": [
    "__Problem 3:__\n",
    " -  __$L_{1} = 200$, $L_{2} = 600$, $L_{3} = 300$, $\\theta_{1} = 30^{\\circ}, \\theta_{2} = 199.5^{\\circ}, d = 738.9 \\to (x_{2},y_{2}) = (173.1,100)$__\n",
    "\n",
    " -  __$L_{1} = 200$, $L_{2} = 600$, $L_{3} = 300$, $\\theta_{1} = 90^{\\circ}, \\theta_{2} = 189.6^{\\circ}, d = 591.6 \\to (x_{2},y_{2}) = (0,200)$__\n",
    "\n",
    " -  __$L_{1} = 200$, $L_{2} = 600$, $L_{3} = 300$, $\\theta_{1} = 180^{\\circ}, \\theta_{2} = 210.0^{\\circ}, d = 319.6 \\to (x_{2},y_{2}) = (-200,0)$__"
   ]
  },
  {
   "cell_type": "code",
   "execution_count": null,
   "metadata": {
    "collapsed": true
   },
   "outputs": [],
   "source": [
    "print(fourbar_crank_coordinates(L1=200,L2=600,L3=300,theta1=30,theta2=199.5,d=738.9))\n",
    "print(fourbar_crank_coordinates(L1=200,L2=600,L3=300,theta1=90,theta2=189.6,d=591.6))\n",
    "print(fourbar_crank_coordinates(L1=200,L2=600,L3=300,theta1=180,theta2=210.0,d=319.6))"
   ]
  },
  {
   "cell_type": "markdown",
   "metadata": {},
   "source": [
    "__Problem 4:__\n",
    "\n",
    " -  __$(0, 0, 100.0, 0.0, 212.5, 165.3, 400, 0)$__\n",
    " -  __$(0, 0, 70.7, 70.7, 233.7, 186.7, 400, 0)$__\n",
    " -  __$(0, 0, 173.2, 100, 738.9, 300, 738.9, 0)$__\n"
   ]
  },
  {
   "cell_type": "code",
   "execution_count": null,
   "metadata": {
    "collapsed": true
   },
   "outputs": [],
   "source": [
    "fourbar_plot(0, 0, 100.0, 0.0, 212.4722325923851, 165.32796633091294, 400, 0)\n",
    "fourbar_plot(0, 0, 70.7, 70.7, 233.7, 186.7, 400, 0)\n",
    "fourbar_plot(0, 0, 173.2, 100, 738.9, 300, 738.9, 0)"
   ]
  },
  {
   "cell_type": "code",
   "execution_count": null,
   "metadata": {
    "collapsed": true
   },
   "outputs": [],
   "source": []
  }
 ],
 "metadata": {
  "kernelspec": {
   "display_name": "Python 3",
   "language": "python",
   "name": "python3"
  },
  "language_info": {
   "codemirror_mode": {
    "name": "ipython",
    "version": 3
   },
   "file_extension": ".py",
   "mimetype": "text/x-python",
   "name": "python",
   "nbconvert_exporter": "python",
   "pygments_lexer": "ipython3",
   "version": "3.5.1"
  }
 },
 "nbformat": 4,
 "nbformat_minor": 2
}
