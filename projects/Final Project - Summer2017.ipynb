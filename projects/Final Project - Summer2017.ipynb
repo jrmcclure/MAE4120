{
 "cells": [
  {
   "cell_type": "markdown",
   "metadata": {},
   "source": [
    "## Final Project - Summer 2017 ##\n",
    "\n",
    "Complete an analysis of the human leg while riding a bicycle.  The goal of the project is to determine the optimum seat height in order to maximum the power output at the rear wheel of the bike.  Model the leg and bike crank as a fourbar linkage.  Be sure to list and justify an assumptions you make while doing the analysis.  The final results should clearly state the optimum height while alos showing supporting plots & figures.  "
   ]
  },
  {
   "cell_type": "markdown",
   "metadata": {},
   "source": [
    "## Required Sections ##\n",
    "\n",
    "- Problem Statement\n",
    "- Assumptions\n",
    "- Analysis\n",
    "- Results\n",
    "- Conclusion"
   ]
  },
  {
   "cell_type": "markdown",
   "metadata": {},
   "source": [
    "## Requirements: ##\n",
    "\n",
    "- Determine actual link lengths using actual measurements.  Show picture(s) of how lengths were derived.  Use standard crank lengths commercially available.\n",
    "- Schematic diagram showing 4bar model to scale (SolidWorks, Illustrator, etc.). Possibly overlay this over real pictures, or show side by side.\n",
    "- Calculate the max & min seat height that allows the user to maintain contact with pedals at all times.\n",
    "  - __Note__: max determined by leg length, min determined by mobilty limitation (assumption based)\n",
    "- Generate polynomial least-squares fit relating leg extension force to knee-angle.\n",
    "- Generate analysis that calculates effective torque as a function of crank angle.  Be sure to use transmission angles to determine the tangential force applied at the pedal.\n",
    "- Determine optimum seat height to maximize total effective work per rotation.\n",
    "  - __Note__: If you cannot find the optimum height, show at least 5 evenly spaced seat heights including the max and min.\n",
    "- Plot effective torque as a function of crank angle (theta3)\n",
    "  - Plot for max seat height, min seat height, optimum seat height\n",
    "  - Can use xy-plot or polar\n",
    "- Assuming RPM of 60, calculate total input power.\n",
    "  - __Note__: Assume straight extension of leg and user simple power (Work / time).  Work can be found by taking the area under the curve relating force and leg extension measured as a distance (Work = $\\int F dx$).  You will need to convert your function F($\\theta$) to a function F(x).  This can be done using the link lengths assuming crank length is 0. \n",
    "- Assuming RPM of 60, calculate total effective power output.\n",
    "  - __Note__: Work can be found by taking the area under the curve relating torque and angular displacement (Work = $\\int \\tau d\\theta$)."
   ]
  },
  {
   "cell_type": "markdown",
   "metadata": {},
   "source": [
    "## References ##\n",
    "\n",
    "<a href='https://msis.jsc.nasa.gov/sections/section04.htm#_4.9_STRENGTH'>NASA Biometric Strength Study</a>\n",
    "\n",
    "<img src=\"https://msis.jsc.nasa.gov/images/Section04/Image137.gif\">\n",
    "\n",
    "<a href=\"https://breakingmuscle.com/learn/adjust-your-crank-length-for-stronger-cycling\">Bike Crank Length Discussion</a>\n",
    "\n",
    "<img src=\"https://cdn3.omidoo.com/sites/default/files/imagecache/full/images/bydate/201502/figure2.png\">\n",
    "\n",
    "<a href=\"https://en.wikipedia.org/wiki/Torque#Units\">Discussion of Torque Units</a>"
   ]
  },
  {
   "cell_type": "code",
   "execution_count": null,
   "metadata": {
    "collapsed": true
   },
   "outputs": [],
   "source": []
  }
 ],
 "metadata": {
  "kernelspec": {
   "display_name": "Python 3",
   "language": "python",
   "name": "python3"
  },
  "language_info": {
   "codemirror_mode": {
    "name": "ipython",
    "version": 3
   },
   "file_extension": ".py",
   "mimetype": "text/x-python",
   "name": "python",
   "nbconvert_exporter": "python",
   "pygments_lexer": "ipython3",
   "version": "3.6.1"
  }
 },
 "nbformat": 4,
 "nbformat_minor": 2
}
