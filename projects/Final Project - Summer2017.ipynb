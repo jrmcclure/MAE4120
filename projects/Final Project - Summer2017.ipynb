{
 "cells": [
  {
   "cell_type": "markdown",
   "metadata": {},
   "source": [
    "## Final Project - Summer 2017 ##\n",
    "\n",
    "__Due 5PM, August 4, 2017__\n",
    "\n",
    "Complete an analysis of the human leg while riding a bicycle.  The goal of the project is to determine the optimum seat height in order to maximum the power output at the rear wheel of the bike.  Model the leg and bike crank as a fourbar linkage.  Be sure to list and justify an assumptions you make while doing the analysis.  The final results should clearly state the optimum height while also showing supporting plots & figures.  "
   ]
  },
  {
   "cell_type": "markdown",
   "metadata": {},
   "source": [
    "## Required Sections ##\n",
    "\n",
    "- Problem Statement\n",
    "- Assumptions\n",
    "- Analysis\n",
    "- Results\n",
    "- Conclusion"
   ]
  },
  {
   "cell_type": "markdown",
   "metadata": {},
   "source": [
    "## Requirements: ##\n",
    "\n",
    "- Determine actual link lengths using actual measurements.  Show picture(s) of how lengths were derived.  Use standard crank lengths commercially available.\n",
    "- Schematic diagram showing 4bar model to scale (SolidWorks, Illustrator, etc.). Possibly overlay this over real pictures, or show side by side.\n",
    "- Calculate the max & min seat height that allows the user to maintain contact with pedals at all times.\n",
    "  - __Note__: max determined by leg length, min determined by mobilty limitation (assumption based)\n",
    "- Generate polynomial least-squares fit relating leg extension force to knee-angle.\n",
    "- Generate function to calculate transmission angle based on $\\theta_{1}$\n",
    "- Generate analysis that calculates effective torque as a function of crank angle.  Be sure to use transmission angles to determine the tangential force applied at the pedal.\n",
    "- Determine optimum seat height to maximize total effective work per rotation.\n",
    "  - __Note__: If you cannot find the optimum height, show at least 5 evenly spaced seat heights including the max and min.\n",
    "- Plot effective torque as a function of crank angle (theta3)\n",
    "  - Plot for max seat height, min seat height, optimum seat height\n",
    "  - Can use xy-plot or polar\n",
    "- Assuming RPM of 60, calculate total input power.\n",
    "  - __Note__: Assume straight extension of leg and user simple power (Work / time).  Work can be found by taking the area under the curve relating force and leg extension measured as a distance (Work = $\\int F dx$).  You will need to convert your function F($\\theta$) to a function F(x).  This can be done using the link lengths assuming crank length is 0. \n",
    "- Assuming RPM of 60, calculate total effective power output.\n",
    "  - __Note__: Work can be found by taking the area under the curve relating torque and angular displacement (Work = $\\int \\tau d\\theta$).\n",
    "- Using the drag equation, calculate the maximum velocity of the rider.  You can ignore all losses other that aerodynamic drag."
   ]
  },
  {
   "cell_type": "markdown",
   "metadata": {},
   "source": [
    "## References ##\n",
    "\n",
    "<a href='https://msis.jsc.nasa.gov/sections/section04.htm#_4.9_STRENGTH'>NASA Biometric Strength Study</a>\n",
    "\n",
    "<img src=\"https://msis.jsc.nasa.gov/images/Section04/Image137.gif\">\n",
    "\n",
    "<a href=\"https://breakingmuscle.com/learn/adjust-your-crank-length-for-stronger-cycling\">Bike Crank Length Discussion</a>\n",
    "\n",
    "<img src=\"https://cdn3.omidoo.com/sites/default/files/imagecache/full/images/bydate/201502/figure2.png\">\n",
    "\n",
    "<a href=\"https://en.wikipedia.org/wiki/Torque#Units\">Discussion of Torque Units</a>\n",
    "\n",
    "#### Minimum Seat Height Reference Image ####\n",
    "\n",
    "<img src=\"https://farm5.static.flickr.com/4121/4879479469_6b6c505c41_b.jpg\" width=\"800px\">\n",
    "\n",
    "<a href=\"https://www.sram.com/sram/road/products/sram-red-crankset-1#sm.00001vmgp2psfle8yqtc3hmoj5waf\">Crank Arm Lengths Available</a>\n",
    "\n",
    "<img src=\"https://sram-cdn-pull-zone-gsdesign.netdna-ssl.com/cdn/farfuture/asNivlir-lK0OZ0Jz4DoYeNhK3h1EYvrw8VeThkwfl4/mtime:1454692353/sites/default/files/styles/product_hero_new/public/images/products/cranksets/sr_red_crank_bb30_5339_black_front_l.jpg?itok=sROIoZA-\">\n",
    "\n",
    "#### Transmission Angle ####\n",
    "\n",
    "<img src=\"https://jrmcclure.com/MAE4120/images/Transmission1.jpg\">\n",
    "\n",
    "#### Drag Equation References ####\n",
    "\n",
    "- <a href=\"http://www.analyticcycling.com/ForcesPower_Page.html\">Forces on Rider</a>\n",
    "- <a href=\"http://www.analyticcycling.com/ForcesPower_Page.html\">Bicycle Drag Force</a>\n"
   ]
  },
  {
   "cell_type": "code",
   "execution_count": 7,
   "metadata": {
    "collapsed": true
   },
   "outputs": [],
   "source": [
    "%matplotlib inline"
   ]
  },
  {
   "cell_type": "code",
   "execution_count": 8,
   "metadata": {
    "collapsed": true
   },
   "outputs": [],
   "source": [
    "import math\n",
    "import numpy as np\n",
    "import pandas as pd\n",
    "from scipy.optimize import fsolve"
   ]
  },
  {
   "cell_type": "code",
   "execution_count": 9,
   "metadata": {
    "collapsed": true
   },
   "outputs": [],
   "source": [
    "import matplotlib.pyplot as plt\n",
    "from matplotlib.figure import figaspect\n",
    "from matplotlib import animation, rc\n",
    "from IPython.display import HTML"
   ]
  },
  {
   "cell_type": "code",
   "execution_count": 10,
   "metadata": {
    "collapsed": true
   },
   "outputs": [],
   "source": [
    "def fourbar_theta1_min(a,b,c,d):\n",
    "    '''\n",
    "    Function returns theta1_min if exists, else returns None\n",
    "    '''    \n",
    "    if (c + b) < (d - a):\n",
    "        return None\n",
    "    elif (c - b) > (d + a):\n",
    "        return None\n",
    "    elif ((c + b) >= (d - a)) and ((c - b) <= (d - a)):\n",
    "        if ((c + b) >= (d + a)) and ((c - b) <= (d + a)):\n",
    "            return 0 \n",
    "        else:\n",
    "            def equations(p):\n",
    "                x, y = p\n",
    "                return (\n",
    "                    a * math.cos(x) - d - (c + b) * math.cos(y),\n",
    "                    a * math.sin(x) - (c + b) * math.sin(y)\n",
    "                )\n",
    "            t1_max, t3 =  fsolve(equations, (math.pi/2 , math.pi))\n",
    "            return 0 - math.degrees(t1_max)\n",
    "    else:\n",
    "        def equations(p):\n",
    "            x, y = p\n",
    "            return (\n",
    "                a * math.cos(x) - d - (c - b) * math.cos(y),\n",
    "                a * math.sin(x) - (c - b) * math.sin(y)\n",
    "            )\n",
    "        t1_min, t3 =  fsolve(equations, (math.pi/4 , math.pi))\n",
    "        return math.degrees(t1_min)"
   ]
  },
  {
   "cell_type": "code",
   "execution_count": 19,
   "metadata": {
    "collapsed": true
   },
   "outputs": [],
   "source": [
    "def fourbar_theta1_min_alt(a,b,c,d):\n",
    "    \n",
    "    for theta1 in np.arange(0,360,0.01):\n",
    "\n",
    "        t1 = math.radians(theta1)\n",
    "        \n",
    "        k1 = d / a\n",
    "        k2 = d / c\n",
    "        k3 = (a**2 - b**2 + c**2 + d**2) /  (2 * a * c)\n",
    "\n",
    "        A = math.cos(t1) - k1 - k2 * math.cos(t1) + k3\n",
    "        B = -2 * math.sin(t1)\n",
    "        C = k1 - (k2 + 1) * math.cos(t1) + k3\n",
    "            \n",
    "        if (B**2 - 4*A*C) >= 0:\n",
    "            return theta1\n",
    "\n",
    "    return None"
   ]
  },
  {
   "cell_type": "code",
   "execution_count": 20,
   "metadata": {},
   "outputs": [
    {
     "name": "stdout",
     "output_type": "stream",
     "text": [
      "36.419913728560296\n",
      "42.59881289236288\n",
      "0\n"
     ]
    }
   ],
   "source": [
    "print(fourbar_theta1_min(200,150,800,800))\n",
    "print(fourbar_theta1_min(150,250,750,600))\n",
    "print(fourbar_theta1_min(150,300,500,600))"
   ]
  },
  {
   "cell_type": "code",
   "execution_count": 21,
   "metadata": {},
   "outputs": [
    {
     "name": "stdout",
     "output_type": "stream",
     "text": [
      "36.42\n",
      "42.6\n",
      "0.0\n"
     ]
    }
   ],
   "source": [
    "print(fourbar_theta1_min_alt(200,150,800,800))\n",
    "print(fourbar_theta1_min_alt(150,250,750,600))\n",
    "print(fourbar_theta1_min_alt(150,300,500,600))"
   ]
  },
  {
   "cell_type": "code",
   "execution_count": 24,
   "metadata": {
    "collapsed": true
   },
   "outputs": [],
   "source": [
    "def fourbar_df_plot(x1,y1,x2,y2,x3,y3,x4,y4):\n",
    "    # Setup figure and subplots\n",
    "    f0 = plt.figure()\n",
    "    ax = plt.subplot()\n",
    "\n",
    "    ax.set_aspect('equal')\n",
    "\n",
    "    L1x = x1,x2\n",
    "    L1y = y1,y2\n",
    "    L2x = x2,x3\n",
    "    L2y = y2,y3\n",
    "    L3x = x3,x4\n",
    "    L3y = y3,y4\n",
    "    L4x = x4,x1\n",
    "    L4y = y4,y1\n",
    "\n",
    "    # Add data to the plot\n",
    "    pL1, = ax.plot(L1x, L1y)\n",
    "    pL2, = ax.plot(L2x, L2y)\n",
    "    pL3, = ax.plot(L3x, L3y)\n",
    "    pL4, = ax.plot(L4x, L4y)\n",
    "    plt.show()"
   ]
  },
  {
   "cell_type": "code",
   "execution_count": 25,
   "metadata": {},
   "outputs": [
    {
     "data": {
      "image/png": "[encoded data removed]",
      "text/plain": [
       "<matplotlib.figure.Figure at 0x109008cc0>"
      ]
     },
     "metadata": {},
     "output_type": "display_data"
    }
   ],
   "source": [
    "fourbar_df_plot(0,0,160.9354276,118.7425288,13.63993491,147.0980898,800,0)"
   ]
  },
  {
   "cell_type": "markdown",
   "metadata": {
    "collapsed": true
   },
   "source": [
    "### Notes: ###\n",
    "\n",
    "- Assumptions:\n",
    "  - Symmetry\n",
    "  - Mobility Limit\n",
    "  - Application of force on pedal"
   ]
  },
  {
   "cell_type": "markdown",
   "metadata": {
    "collapsed": true
   },
   "source": [
    "#### Measurements ####\n",
    "- Femur = 42 cm\n",
    "- Tibia = 43 cm"
   ]
  },
  {
   "cell_type": "code",
   "execution_count": null,
   "metadata": {
    "collapsed": true
   },
   "outputs": [],
   "source": []
  }
 ],
 "metadata": {
  "kernelspec": {
   "display_name": "Python 3",
   "language": "python",
   "name": "python3"
  },
  "language_info": {
   "codemirror_mode": {
    "name": "ipython",
    "version": 3
   },
   "file_extension": ".py",
   "mimetype": "text/x-python",
   "name": "python",
   "nbconvert_exporter": "python",
   "pygments_lexer": "ipython3",
   "version": "3.6.1"
  }
 },
 "nbformat": 4,
 "nbformat_minor": 2
}
