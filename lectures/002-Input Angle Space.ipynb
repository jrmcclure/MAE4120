{
 "cells": [
  {
   "cell_type": "markdown",
   "metadata": {
    "collapsed": true
   },
   "source": [
    "# Fourbar Input Angle Space\n",
    "---\n",
    "## Problem:\n",
    "\n",
    "<img src=\"https://jrmcclure.com/MAE4120/images/4bar.svg\" width=\"400\"/>\n",
    "\n",
    "> ### __Given:__ $L_{1}, L_{2}, L_{3}, L_{4}$\n",
    "\n",
    "> ### __Find:__ $Range\\:of\\:all\\:possible\\:angles\\:\\theta_{1}$\n"
   ]
  },
  {
   "cell_type": "markdown",
   "metadata": {},
   "source": [
    "## Case I:\n",
    "\n",
    ">  __Given:__ $L_{3} + L_{2} < L_{4} - L_{1}$\n",
    "\n",
    ">  __Solution:__ $Range\\:of\\:\\theta_{1}\\:is\\:\\{\\}$"
   ]
  },
  {
   "cell_type": "markdown",
   "metadata": {
    "collapsed": true
   },
   "source": [
    "<img src=\"https://jrmcclure.com/MAE4120/images/4bar_01.svg\" width=\"600\"/>"
   ]
  },
  {
   "cell_type": "markdown",
   "metadata": {},
   "source": [
    "## Case II:\n",
    "\n",
    ">  __Given:__ $L_{3} - L_{2} > L_{4} + L_{1}$\n",
    "\n",
    ">  __Solution:__ $Range\\:of\\:\\theta_{1}\\:is\\:\\{\\}$"
   ]
  },
  {
   "cell_type": "markdown",
   "metadata": {
    "collapsed": true
   },
   "source": [
    "<img src=\"https://jrmcclure.com/MAE4120/images/4bar_02.svg\" width=\"600\"/>"
   ]
  },
  {
   "cell_type": "markdown",
   "metadata": {},
   "source": [
    "## Case III:\n",
    "\n",
    ">  __Given:__\n",
    "\n",
    "\\begin{equation*}\n",
    "L_{3} + L_{2} > L_{4} + L_{1}\\\\ \n",
    "L_{3} - L_{2} < L_{4} - L_{1}\n",
    "\\end{equation*}\n",
    "\n",
    ">  __Solution:__\n",
    "\n",
    "\\begin{equation*}\n",
    "Range\\:of\\:\\theta_{1}\\:is\\:\\{0^{\\circ}-360^{\\circ}\\}\n",
    "\\end{equation*}"
   ]
  },
  {
   "cell_type": "markdown",
   "metadata": {},
   "source": [
    "<img src=\"https://jrmcclure.com/MAE4120/images/4bar_03.svg\" width=\"600\"/>"
   ]
  },
  {
   "cell_type": "markdown",
   "metadata": {},
   "source": [
    "## Case IV:\n",
    "\n",
    ">  __Given:__\n",
    "\n",
    "\\begin{equation*}\n",
    "L_{3} + L_{2} < L_{4} + L_{1}\\:\\:||\\:\\:L_{3} - L_{2} > L_{4} - L_{1}\n",
    "\\end{equation*}\n",
    "\n",
    ">  __Solution:__\n",
    "\n",
    "\\begin{equation*}\n",
    "Range\\:of\\:\\theta_{1}\\:is\\:fn(L_{1},L_{2},L_{3},L_{4})\n",
    "\\end{equation*}"
   ]
  },
  {
   "cell_type": "markdown",
   "metadata": {},
   "source": [
    "<img src=\"https://jrmcclure.com/MAE4120/images/4bar_04.svg\" width=\"600\"/>"
   ]
  },
  {
   "cell_type": "markdown",
   "metadata": {},
   "source": [
    "## Note:\n",
    "\n",
    ">  __If:__ $L_{2} < L_{1}$\n",
    "\n",
    ">  __Then:__ _Linakge __MUST BE__ Non-Grashof_"
   ]
  },
  {
   "cell_type": "markdown",
   "metadata": {},
   "source": [
    "<img src=\"https://jrmcclure.com/MAE4120/images/4bar_05.svg\" width=\"600\"/>"
   ]
  },
  {
   "cell_type": "markdown",
   "metadata": {},
   "source": [
    "### Max Angle Calculation:\n",
    "\n",
    "> #### __Given:__ $L_{1}, L_{2}, L_{3}, L_{4}$\n",
    "> #### __Find:__ $\\theta_{1,max}$"
   ]
  },
  {
   "cell_type": "markdown",
   "metadata": {},
   "source": [
    "<img src=\"https://jrmcclure.com/MAE4120/images/4bar_limitB.svg\" width=\"600\"/>"
   ]
  },
  {
   "cell_type": "markdown",
   "metadata": {},
   "source": [
    "### Vector Analysis\n",
    "> _Using __vector analysis__, we can create a system of simultaneous equations to solve for θ_"
   ]
  },
  {
   "cell_type": "markdown",
   "metadata": {},
   "source": [
    "<img src=\"https://jrmcclure.com/MAE4120/images/4bar_limitB2.svg\" width=\"600\"/>"
   ]
  },
  {
   "cell_type": "markdown",
   "metadata": {
    "collapsed": true
   },
   "source": [
    "__Vector Loop Equation__:\n",
    "\n",
    "\\begin{equation*}\\large\n",
    "\\vec{L_{1}} = \\vec{L_{4}} + \\vec{L_{3}} + \\vec{L_{2}}\n",
    "\\end{equation*}\n",
    "\n",
    "> _We can convert this __1 vector equation__ into __2 cartesian equations__ (X,Y)_"
   ]
  },
  {
   "cell_type": "markdown",
   "metadata": {},
   "source": [
    "__Cartesian Equations:__\n",
    "\n",
    "\\begin{equation*}\\large\n",
    "x:\\:L_{1,x} = L_{4,x} + L_{3,x} + L_{2,x}\\\\ \n",
    "\\large\n",
    "y:\\:L_{1,y} = L_{4,y} + L_{3,y} + L_{2,y}\n",
    "\\end{equation*}\n",
    "\n",
    "> _We can use trigonometic functions to rewrite both equations with respect to theta angles_"
   ]
  },
  {
   "cell_type": "markdown",
   "metadata": {},
   "source": [
    "__X-Direction:__\n",
    "\n",
    "\\begin{equation*}\\large\n",
    "L_{1}cos\\theta_{1} = L_{4}cos\\theta_{4} + L_{3}cos\\theta_{3} + L_{2}cos\\theta_{2}\\\\ \n",
    "\\end{equation*}\n",
    "\n",
    "__Y-Direction:__\n",
    "\n",
    "\\begin{equation*}\\large\n",
    "L_{1}sin\\theta_{1} = L_{4}sin\\theta_{4} + L_{3}sin\\theta_{3} + L_{2}sin\\theta_{2}\\\\ \n",
    "\\end{equation*}\n",
    "\n",
    "> __Note__: $\\theta_{4} = 0^{\\circ}$\n",
    "\n",
    "> __Note__: $\\theta_{2} = \\theta_{3}$"
   ]
  },
  {
   "cell_type": "markdown",
   "metadata": {},
   "source": [
    "__X-Direction:__\n",
    "\n",
    "\\begin{equation*}\\large\n",
    "L_{1}cos\\theta_{1} = L_{4} + (L_{3} + L_{2})cos\\theta_{3}\n",
    "\\end{equation*}\n",
    "\n",
    "__Y-Direction:__\n",
    "\n",
    "\\begin{equation*}\\large\n",
    "L_{1}sin\\theta_{1} = (L_{3} + L_{2})sin\\theta_{3} \n",
    "\\end{equation*}\n",
    "\n",
    "> __2 Equations => 2 Unknowns => 0 DOF => Solve__"
   ]
  },
  {
   "cell_type": "markdown",
   "metadata": {},
   "source": [
    "### Minimum Angle Calculation:\n",
    "\n",
    "> #### __Given:__ $L_{1}, L_{2}, L_{3}, L_{4}$\n",
    "> #### __Find:__ $\\theta_{1,min}$"
   ]
  },
  {
   "cell_type": "markdown",
   "metadata": {},
   "source": [
    "<img src=\"https://jrmcclure.com/MAE4120/images/4bar_limitA.svg\" width=\"600\"/>"
   ]
  },
  {
   "cell_type": "markdown",
   "metadata": {
    "collapsed": true
   },
   "source": [
    "<img src=\"https://jrmcclure.com/MAE4120/images/4bar_limitA2.svg\" width=\"600\"/>"
   ]
  },
  {
   "cell_type": "markdown",
   "metadata": {},
   "source": [
    "__Vector Loop Equation__:\n",
    "\n",
    "\\begin{equation*}\\large\n",
    "\\vec{L_{1}} = \\vec{L_{4}} + \\vec{L_{3}} + \\vec{L_{2}}\n",
    "\\end{equation*}\n",
    "\n",
    "> _We can use the same __vector equation__ to create __2 cartesian equations__ (X,Y)_"
   ]
  },
  {
   "cell_type": "markdown",
   "metadata": {},
   "source": [
    "__X-Direction:__\n",
    "\n",
    "\\begin{equation*}\\large\n",
    "L_{1}cos\\theta_{1} = L_{4}cos\\theta_{4} + L_{3}cos\\theta_{3} + L_{2}cos\\theta_{2}\\\\ \n",
    "\\end{equation*}\n",
    "\n",
    "__Y-Direction:__\n",
    "\n",
    "\\begin{equation*}\\large\n",
    "L_{1}sin\\theta_{1} = L_{4}sin\\theta_{4} + L_{3}sin\\theta_{3} + L_{2}sin\\theta_{2}\\\\ \n",
    "\\end{equation*}\n",
    "\n",
    "> __Note__: $\\theta_{4} = 0^{\\circ}$\n",
    "\n",
    "> __Note__: $\\theta_{2} = \\theta_{3} + 180$\n",
    "> - $cos(\\theta \\pm 180^{\\circ}) = - cos\\theta$\n",
    "> - $sin(\\theta \\pm 180^{\\circ}) = - sin\\theta$\n",
    "\n"
   ]
  },
  {
   "cell_type": "markdown",
   "metadata": {},
   "source": [
    "__X-Direction:__\n",
    "\n",
    "\\begin{equation*}\\large\n",
    "L_{1}cos\\theta_{1} = L_{4} + (L_{3} - L_{2})cos\\theta_{3}\n",
    "\\end{equation*}\n",
    "\n",
    "__Y-Direction:__\n",
    "\n",
    "\\begin{equation*}\\large\n",
    "L_{1}sin\\theta_{1} = (L_{3} - L_{2})sin\\theta_{3} \n",
    "\\end{equation*}\n",
    "\n",
    "> __2 Equations => 2 Unknowns => 0 DOF => Solve__"
   ]
  },
  {
   "cell_type": "code",
   "execution_count": null,
   "metadata": {
    "collapsed": true
   },
   "outputs": [],
   "source": []
  }
 ],
 "metadata": {
  "kernelspec": {
   "display_name": "Python 3",
   "language": "python",
   "name": "python3"
  },
  "language_info": {
   "codemirror_mode": {
    "name": "ipython",
    "version": 3
   },
   "file_extension": ".py",
   "mimetype": "text/x-python",
   "name": "python",
   "nbconvert_exporter": "python",
   "pygments_lexer": "ipython3",
   "version": "3.6.1"
  }
 },
 "nbformat": 4,
 "nbformat_minor": 2
}
